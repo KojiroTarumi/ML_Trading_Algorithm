{
 "cells": [
  {
   "cell_type": "markdown",
   "metadata": {},
   "source": [
    "Yahooファイナンスからスクレイピングする。<br>\n",
    "サーバ過負荷にならないよう、アクセス間隔をある程度空けている。<br>\n",
    "仮にサーバエラーとなった場合はリトライするようにしている。<br>\n",
    "株価解析のために、全銘柄に対して過去約20年分のデータを取得しデータベースに蓄積する。\n",
    "\n",
    "- Qiita : https://qiita.com/jun6231jp/items/3d8f01e0cd8520754001\n",
    "- Code : https://github.com/jun6231jp/stoks/blob/master/scraping_stoks.py"
   ]
  },
  {
   "cell_type": "code",
   "execution_count": null,
   "metadata": {},
   "outputs": [],
   "source": [
    "# coding: utf-8\n",
    "# In[ ]:\n",
    "\n",
    "from bs4 import BeautifulSoup\n",
    "import time\n",
    "import urllib.request as req \n",
    "import re\n",
    "from urllib.parse import urlparse\n",
    "import mysql.connector\n",
    "import datetime\n",
    "import socket\n",
    "from retrying import retry\n",
    "import requests"
   ]
  },
  {
   "cell_type": "code",
   "execution_count": null,
   "metadata": {},
   "outputs": [],
   "source": [
    "#Internal Server Error 500が発生下場合5回までリトライする\n",
    "@retry(stop_max_attempt_number=5, wait_fixed=500)\n",
    "\n",
    "def webaccess(id,page):\n",
    "    time.sleep(0.05)\n",
    "    #日付取得\n",
    "    year=datetime.date.today().strftime(\"%Y\")\n",
    "    month=datetime.date.today().strftime(\"%m\")\n",
    "    day=datetime.date.today().strftime(\"%d\")\n",
    "    #30年前からのデータを順に表示するようURL作成\n",
    "    url=\"https://info.finance.yahoo.co.jp/history/?code=\"+str(id)+\".T&sy=\"+str(int(year)-30)+\"&sm=\"+str(month)+\"&sd=\"+str(day)+\"&ey=\"+str(year)+\"&em=\"+str(month)+\"&ed=\"+str(day)+\"&tm=d&p=\"+str(page)\n",
    "    #webアクセス\n",
    "    res = req.urlopen(url).read()\n",
    "    soup = BeautifulSoup(res,\"html.parser\")\n",
    "    #要素抽出\n",
    "    head = soup.findAll(\"th\")\n",
    "    price = soup.findAll(\"td\")\n",
    "    #社名取得\n",
    "    companyname = ''\n",
    "    name_commit = 0\n",
    "    if int(page) == 1:\n",
    "        for i in head:\n",
    "            name = []\n",
    "            if re.match(r'<th class=\"symbol\"><h1>(.*)</h1></th>', str(i)):\n",
    "                name.append(re.sub(r'<th class=\"symbol\"><h1>(.*)</h1></th>', r'\\1', str(i)).rstrip('\\n'))\n",
    "                if name_commit == 0 :\n",
    "                    try:\n",
    "                        cur.execute('insert into stoks.names (id,name) values ('+str(id)+',\"'+str(name[0])+'\")')\n",
    "                        con.commit()\n",
    "                        print (str(id)+\",\"+str(name[0]))\n",
    "                        name_commit = 1\n",
    "                        companyname = name[0]\n",
    "                    except:\n",
    "                        con.rollback()\n",
    "                        return 0      \n",
    "        if not companyname:\n",
    "            return 0    \n",
    "    #価格情報取得    \n",
    "    lastprice=0\n",
    "    for i in price:\n",
    "        td = re.match(r'<td>.*', str(i))\n",
    "        date = re.match(r'<td>(.*年.*)</td>', str(i))\n",
    "        if td:\n",
    "            if date:\n",
    "                stoks = []\n",
    "                stoks.append(id)\n",
    "                stoks.append(companyname)\n",
    "                stoks.append(re.sub(r'<td>(.*)</td>', r'\\1', ((date.group().replace(\"年\",\"-\")).replace(\"月\",\"-\")).replace(\"日\",\"\")).replace(\",\",\"\") )\n",
    "            else:\n",
    "                stoks.append(re.sub(r'<td>(.*)</td>', r'\\1', str(i)).replace(\",\",\"\").rstrip('\\n'))\n",
    "                \n",
    "            if len(stoks)==9 :\n",
    "                try:\n",
    "                    cur.execute('insert into stoks.prices (id,date,open,high,low,close,volume,fixed) values ('+str(stoks[0])+',\"'+str(stoks[2])+'\",'+str(int(stoks[3]))+','+str(int(stoks[4]))+','+str(int(stoks[5]))+','+str(int(stoks[6]))+','+str(int(stoks[7]))+','+str(int(stoks[8]))+')')\n",
    "                    con.commit()\n",
    "                    print(str(stoks[0])+',\"'+str(stoks[2])+'\",'+str(int(stoks[3]))+','+str(int(stoks[4]))+','+str(int(stoks[5]))+','+str(int(stoks[6]))+','+str(int(stoks[7]))+','+str(int(stoks[8])))\n",
    "                    lastprice=int(stoks[3])\n",
    "                    stoks = []\n",
    "                except:\n",
    "                    con.rollback()\n",
    "                    return 0                                            \n",
    "    return lastprice       \n",
    "\n",
    "#タイムアウト設定\n",
    "socket.setdefaulttimeout(36000)"
   ]
  },
  {
   "cell_type": "code",
   "execution_count": null,
   "metadata": {},
   "outputs": [],
   "source": [
    "# mysqlに接続する\n",
    "con = mysql.connector.connect(\n",
    "     user='name',\n",
    "     passwd='pass',\n",
    "     host='localhost',\n",
    "     db='mysql'\n",
    ")\n",
    "# 定期的にpingを送り接続が切れていれば再接続する\n",
    "con.ping(reconnect=True)\n",
    "#クエリ実行\n",
    "cur = con.cursor()\n",
    "for id in range(1300, 10000):\n",
    "    time.sleep(0.5)\n",
    "    for page in range(1, 300):\n",
    "        if webaccess(id,page)==0:\n",
    "            break\n",
    "            \n",
    "# 接続を閉じる\n",
    "con.close"
   ]
  },
  {
   "cell_type": "code",
   "execution_count": null,
   "metadata": {},
   "outputs": [],
   "source": []
  },
  {
   "cell_type": "code",
   "execution_count": 2,
   "metadata": {},
   "outputs": [
    {
     "name": "stdout",
     "output_type": "stream",
     "text": [
      "ソニー(株) 6,347\n"
     ]
    }
   ],
   "source": [
    "import requests\n",
    "from bs4 import BeautifulSoup\n",
    "\n",
    "def get_stockprice(code):\n",
    "    base_url = \"http://stocks.finance.yahoo.co.jp/stocks/detail/\"\n",
    "    query = {}\n",
    "    query[\"code\"] = code + \".T\"\n",
    "    ret = requests.get(base_url,params=query)\n",
    "    soup = BeautifulSoup(ret.content,\"lxml\")\n",
    "    stocktable =  soup.find('table', {'class':'stocksTable'})\n",
    "    symbol =  stocktable.findAll('th', {'class':'symbol'})[0].text\n",
    "    stockprice = stocktable.findAll('td', {'class':'stoksPrice'})[1].text\n",
    "    return symbol,stockprice\n",
    "if __name__ == \"__main__\":\n",
    "    symbol,stockprice = get_stockprice(\"6758\")\n",
    "    print (symbol,stockprice)"
   ]
  },
  {
   "cell_type": "code",
   "execution_count": null,
   "metadata": {},
   "outputs": [],
   "source": []
  },
  {
   "cell_type": "code",
   "execution_count": null,
   "metadata": {},
   "outputs": [],
   "source": []
  },
  {
   "cell_type": "code",
   "execution_count": null,
   "metadata": {},
   "outputs": [],
   "source": []
  }
 ],
 "metadata": {
  "kernelspec": {
   "display_name": "Python 3",
   "language": "python",
   "name": "python3"
  },
  "language_info": {
   "codemirror_mode": {
    "name": "ipython",
    "version": 3
   },
   "file_extension": ".py",
   "mimetype": "text/x-python",
   "name": "python",
   "nbconvert_exporter": "python",
   "pygments_lexer": "ipython3",
   "version": "3.7.3"
  }
 },
 "nbformat": 4,
 "nbformat_minor": 2
}
