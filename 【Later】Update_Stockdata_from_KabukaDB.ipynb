{
 "cells": [
  {
   "cell_type": "markdown",
   "metadata": {},
   "source": [
    "- Python Webスクレイピング 実践入門<br>\n",
    "https://qiita.com/Azunyan1111/items/9b3d16428d2bcc7c9406\n",
    "\n",
    "繰り返しとcsv出力\n",
    "この結果をcsvに出力し、一時間ごとに繰り返していきます\n",
    "\n",
    "流れ的には言えば\n",
    "1.n時00秒になるまで待機\n",
    "2.csvをオープン\n",
    "3.レコードを作成\n",
    "4.日経平均株価を取得\n",
    "5.レコードに追加\n",
    "6.レコードをcsvに書き込み"
   ]
  },
  {
   "cell_type": "code",
   "execution_count": null,
   "metadata": {},
   "outputs": [],
   "source": [
    "# coding: UTF-8\n",
    "import urllib2\n",
    "from bs4 import BeautifulSoup\n",
    "from datetime import datetime\n",
    "import csv\n",
    "import time"
   ]
  },
  {
   "cell_type": "code",
   "execution_count": null,
   "metadata": {},
   "outputs": [],
   "source": [
    "time_flag = True\n",
    "\n",
    "# 永久に実行させます\n",
    "while True:\n",
    "    # 24時間待機する\n",
    "    if datetime.now().hour != 24:\n",
    "        # 1分(58秒)間待機します(誤差がないとは言い切れないので58秒です)\n",
    "        time.sleep(58)\n",
    "        continue\n",
    "\n",
    "    # csvを追記モードで開きます→ここでcsvを開くのはファイルが大きくなった時にcsvを開くのに時間がかかるためです\n",
    "    f = open('nikkei_heikin.csv', 'a')\n",
    "    writer = csv.writer(f, lineterminator='\\n')\n",
    "\n",
    "    # 24時間になりましたが正確な時間に測定をするために分間隔で59分になるまで抜け出せません\n",
    "    while datetime.now().minute != 59:\n",
    "            # 00秒ではないので1秒待機\n",
    "            time.sleep(1)\n",
    "    # 処理が早く終わり二回繰り返してしまうのでここで一秒間待機します\n",
    "    time.sleep(1)\n",
    "\n",
    "    # csvに記述するレコードを作成します\n",
    "    csv_list = []\n",
    "\n",
    "    # 現在の時刻を年、月、日、時、分、秒で取得します\n",
    "    time_ = datetime.now().strftime(\"%Y/%m/%d %H:%M:%S\")\n",
    "    # 1カラム目に時間を挿入します\n",
    "    csv_list.append(time_)\n",
    "\n",
    "    # アクセスするURL\n",
    "    url = \"http://www.nikkei.com/markets/kabu/\"\n",
    "\n",
    "    # URLにアクセスする htmlが帰ってくる → <html><head><title>経済、株価、ビジネス、政治のニュース:日経電子版</title></head><body....\n",
    "    html = urllib2.urlopen(url)\n",
    "\n",
    "    # htmlをBeautifulSoupで扱う\n",
    "    soup = BeautifulSoup(html, \"html.parser\")\n",
    "\n",
    "    # span要素全てを摘出する→全てのspan要素が配列に入ってかえされます→[<span class=\"m-wficon triDown\"></span>, <span class=\"l-h...\n",
    "    span = soup.find_all(\"span\")\n",
    "\n",
    "    # print時のエラーとならないように最初に宣言しておきます。\n",
    "    nikkei_heikin = \"\"\n",
    "    # for分で全てのspan要素の中からClass=\"mkc-stock_prices\"となっている物を探します\n",
    "    for tag in span:\n",
    "        # classの設定がされていない要素は、tag.get(\"class\").pop(0)を行うことのできないでエラーとなるため、tryでエラーを回避する\n",
    "        try:\n",
    "            # tagの中からclass=\"n\"のnの文字列を摘出します。複数classが設定されている場合があるので\n",
    "            # get関数では配列で帰ってくる。そのため配列の関数pop(0)により、配列の一番最初を摘出する\n",
    "            # <span class=\"hoge\" class=\"foo\">  →   [\"hoge\",\"foo\"]  →   hoge\n",
    "            string_ = tag.get(\"class\").pop(0)\n",
    "\n",
    "            # 摘出したclassの文字列にmkc-stock_pricesと設定されているかを調べます\n",
    "            if string_ in \"mkc-stock_prices\":\n",
    "                # mkc-stock_pricesが設定されているのでtagで囲まれた文字列を.stringであぶり出します\n",
    "                nikkei_heikin = tag.string\n",
    "                # 摘出が完了したのでfor分を抜けます\n",
    "                break\n",
    "        except:\n",
    "            # パス→何も処理を行わない\n",
    "            pass\n",
    "\n",
    "    # 摘出した日経平均株価を時間とともに出力します。\n",
    "    print time_, nikkei_heikin\n",
    "    # 2カラム目に日経平均を記録します\n",
    "    csv_list.append(nikkei_heikin)\n",
    "    # csvに追記敷きます\n",
    "    writer.writerow(csv_list)\n",
    "    # ファイル破損防止のために閉じます\n",
    "    f.close()"
   ]
  },
  {
   "cell_type": "code",
   "execution_count": null,
   "metadata": {},
   "outputs": [],
   "source": []
  },
  {
   "cell_type": "code",
   "execution_count": null,
   "metadata": {},
   "outputs": [],
   "source": []
  },
  {
   "cell_type": "code",
   "execution_count": null,
   "metadata": {},
   "outputs": [],
   "source": []
  },
  {
   "cell_type": "code",
   "execution_count": null,
   "metadata": {},
   "outputs": [],
   "source": []
  }
 ],
 "metadata": {
  "kernelspec": {
   "display_name": "Python 3",
   "language": "python",
   "name": "python3"
  },
  "language_info": {
   "codemirror_mode": {
    "name": "ipython",
    "version": 3
   },
   "file_extension": ".py",
   "mimetype": "text/x-python",
   "name": "python",
   "nbconvert_exporter": "python",
   "pygments_lexer": "ipython3",
   "version": "3.7.3"
  }
 },
 "nbformat": 4,
 "nbformat_minor": 2
}
