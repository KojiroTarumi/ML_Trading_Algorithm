{
 "cells": [
  {
   "cell_type": "markdown",
   "metadata": {},
   "source": [
    "- Yahoo Finance USから株価をダウンロードしてみた\n",
    "https://qiita.com/innovation1005/items/5be026cf7e1d459e9562\n",
    "\n",
    "ダウンロードにはpandasのdatareaderが必要"
   ]
  },
  {
   "cell_type": "code",
   "execution_count": null,
   "metadata": {},
   "outputs": [],
   "source": [
    "import matplotlib.pyplot as plt #描画ライブラリ\n",
    "import pandas_datareader.data as web #データのダウンロードライブラリ"
   ]
  },
  {
   "cell_type": "code",
   "execution_count": null,
   "metadata": {},
   "outputs": [],
   "source": [
    "tsd = web.DataReader(\"usmv\",\"yahoo\",\"1980/1/1\").dropna()#jpy\n",
    "tsd.loc[:,'Adj Close'].plot()"
   ]
  },
  {
   "cell_type": "code",
   "execution_count": null,
   "metadata": {},
   "outputs": [],
   "source": [
    "NDX=['AAL','AAPL','AMD','ALGN','ADBE','ADI','ADP','ADSK','ALXN','AMAT',\n",
    "'AMGN','AMZN','ASML','ATVI','BIDU','BIIB','BMRN','BKNG','AVGO','CDNS',\n",
    "'CELG','CERN','CHKP','CMCSA','COST','CSCO','CSX','CTAS','CTRP','CTSH',\n",
    "'CTXS','DLTR','EA','EBAY','EXPE','FAST','FB','FISV','FOX','FOXA',\n",
    "'GILD','GOOG','GOOGL','HAS','HSIC','HOLX','IDXX','ILMN','INCY',\n",
    "'INTC','INTU','ISCA','ISRG','JBHT','JD','KHC','KLAC','LBTYB','LBTYA',\n",
    "'LBTYK','LULU','LILA','LILAK','LRCX','MAR','MCHP','MELI','MNST',\n",
    "'MSFT','MU','MXIM','MELI','MYL','NTAP','NFLX','NTES','NVDA','NXPI',\n",
    "'ORLY','PAYX','PCAR','PYPL','PEP','QCOM','REGN','ROST','SBUX','SYMC',\n",
    "'SNPS','SIRI','SWKS','SYMC','TMUS','TTWO','TSLA','TXN','KHC',\n",
    "'ULTA','UAL','VRSN','VRSK','VRTX','WBA','WDC','WLTW','WDAY','WYNN','XEL']"
   ]
  },
  {
   "cell_type": "code",
   "execution_count": null,
   "metadata": {},
   "outputs": [],
   "source": [
    "# ダウンジョーンズ\n",
    "tsd = web.DataReader(\"dia\",\"yahoo\",\"1980/1/1\").dropna()#jpy\n",
    "tsd.loc[:,'Adj Close'].plot()"
   ]
  },
  {
   "cell_type": "code",
   "execution_count": null,
   "metadata": {},
   "outputs": [],
   "source": [
    "# NASDAQ100\n",
    "tsd = web.DataReader(\"qqq\",\"yahoo\",\"1980/1/1\").dropna()#jpy\n",
    "tsd.loc[:,'Adj Close'].plot()"
   ]
  },
  {
   "cell_type": "code",
   "execution_count": null,
   "metadata": {},
   "outputs": [],
   "source": [
    "# 日経225\n",
    "tsd = web.DataReader(\"^N225\",\"yahoo\",\"1970/1/4\").dropna()#jpy\n",
    "tsd.loc[:,'Adj Close'].plot()"
   ]
  },
  {
   "cell_type": "code",
   "execution_count": null,
   "metadata": {},
   "outputs": [],
   "source": [
    "# 有力なNYダウ\n",
    "DJ=['AAPL','AXP','BA','CAT','CSCO','CVX','DIS','DWDP','GS','HD',\n",
    "    'IBM','INTC','JNJ','JPM','KO','MCD','MMM','MRK','MSFT','NKE',\n",
    "    'PFE','PG','TRV','UNH','UTX','V','VZ','WBA','WMT','XOM']"
   ]
  },
  {
   "cell_type": "code",
   "execution_count": null,
   "metadata": {},
   "outputs": [],
   "source": [
    "# 代表的株価指数\n",
    "index=[\"^DJI\",\"^DJT\",\"^DJU\",\"^BANK\",\"^IXCO\",\"^NDX\",\"^NBI\",\n",
    "       \"^NDXT\",\"^INDS\",\"^INSR\",\"^OFIN\",\"^IXTC\",\"^TRAN\",\"^NYY\",\"^NYI\",\"^NY\",\n",
    "       \"^NYL\",\"^XMI\",\"^OEX\",\"^GSPC\",\"^HSI\",\"^FCHI\",\"^BVSP\",\"^N225\",\"^RUA\",\"^XAX\"]"
   ]
  },
  {
   "cell_type": "markdown",
   "metadata": {},
   "source": [
    "### ダウ工業株30種平均に採用されている銘柄をダウンロードしてリターンとリスクをみる\n",
    "\n",
    "これらの銘柄の株価をpandas datareaderを用いてダウンロードしてみましょう。<br>\n",
    "まず最初はリーマンショック以降のデータを見てみましょう。データを取得したら年率換算の平均リターンを求めて、<br>\n",
    "年率換算の標準偏差を計算します。<br>\n",
    "これらには価格の対数の差を用います。年率換算された対数価格差の標準偏差をボラティリティと呼びます。<br>\n",
    "また、平均リターンをボラティリティで割って単位ボラティリティ当たりのリターンを求めてみましょう。"
   ]
  },
  {
   "cell_type": "code",
   "execution_count": null,
   "metadata": {},
   "outputs": [],
   "source": [
    "import matplotlib.pylab as plt\n",
    "import seaborn as sns\n",
    "import pandas_datareader.data as web\n",
    "import numpy as np\n",
    "import pandas as pd\n",
    "\n",
    "DJ=['AAPL','AXP','BA','CAT','CSCO','CVX','DIS','DWDP','GS','HD',\n",
    "    'IBM','INTC','JNJ','JPM','KO','MCD','MMM','MRK','MSFT','NKE',\n",
    "    'PFE','PG','TRV','UNH','UTX','V','VZ','WBA','WMT','XOM']\n",
    "m=[]#それぞれの株価の年率換算平均のデータを保存\n",
    "v=[]#それぞれの株価の年率換算した標準偏差を保存\n",
    "for i in range(len(DJ)):\n",
    "    tsd=web.DataReader(DJ[i], \"yahoo\",'2009/1/1')#株価データのダウンロード\n",
    "    lntsd=np.log(tsd.iloc[:,5])#データの自然対数を取る\n",
    "    m.append((lntsd.diff().dropna().mean()+1)**250-1)\n",
    "    v.append(lntsd.diff().dropna().std()*np.sqrt(250))\n",
    "    print('{0: 03d}'.format(i+1),'{0:7s}'.format(DJ[i]),'平均{0:5.2f}'.format(m[i]),\n",
    "          'ボラティリティ {0:5.2f}'.format(v[i]),'m/v {0:5.2f}'.format(m[i]/v[i]),\n",
    "          ' データ数{0:10d}'.format(len(tsd)))\n",
    "v_m=pd.DataFrame({'v':v,'m':m})\n",
    "sns.jointplot(x='v',y='m',data=v_m,color=\"g\")"
   ]
  },
  {
   "cell_type": "code",
   "execution_count": null,
   "metadata": {},
   "outputs": [],
   "source": [
    "# つぎにさらに長い期間のデータをダウンロードしてデータを分析してみましょう。\n",
    "m2=[]#それぞれの株価の年率換算平均のデータを保存\n",
    "v2=[]#それぞれの株価の年率換算した標準偏差を保存\n",
    "for i in range(len(DJ)):\n",
    "    tsd=web.DataReader(DJ[i], \"yahoo\",'1975/1/1')#株価データのダウンロード\n",
    "    lntsd=np.log(tsd.iloc[:,5])#データの自然対数を取る\n",
    "    m2.append((lntsd.diff().dropna().mean()+1)**250-1)\n",
    "    v2.append(lntsd.diff().dropna().std()*np.sqrt(250))\n",
    "    print('{0: 03d}'.format(i+1),'{0:7s}'.format(DJ[i]),' 平均{0:5.2f}'.format(m2[i]),\n",
    "          ' ボラティリティ {0:5.2f}'.format(v2[i]),' m/v {0:5.2f}'.format(m2[i]/v2[i]),\n",
    "          ' データ数{0:10d}'.format(len(tsd)))\n",
    "v_m2=pd.DataFrame({'v2':v2,'m2':m2})\n",
    "sns.jointplot(x='v2',y='m2', data=v_m2, color=\"g\")"
   ]
  },
  {
   "cell_type": "code",
   "execution_count": null,
   "metadata": {},
   "outputs": [],
   "source": []
  }
 ],
 "metadata": {
  "kernelspec": {
   "display_name": "Python 3",
   "language": "python",
   "name": "python3"
  },
  "language_info": {
   "codemirror_mode": {
    "name": "ipython",
    "version": 3
   },
   "file_extension": ".py",
   "mimetype": "text/x-python",
   "name": "python",
   "nbconvert_exporter": "python",
   "pygments_lexer": "ipython3",
   "version": "3.7.3"
  }
 },
 "nbformat": 4,
 "nbformat_minor": 2
}
